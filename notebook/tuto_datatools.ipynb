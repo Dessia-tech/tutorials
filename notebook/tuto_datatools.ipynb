{
  "nbformat": 4,
  "nbformat_minor": 0,
  "metadata": {
    "colab": {
      "provenance": [],
      "collapsed_sections": [],
      "toc_visible": true
    },
    "kernelspec": {
      "name": "python3",
      "display_name": "Python 3"
    },
    "language_info": {
      "name": "python"
    }
  },
  "cells": [
    {
      "cell_type": "markdown",
      "source": [
        "[![Open In Colab](https://colab.research.google.com/assets/colab-badge.svg)](https://colab.research.google.com/github/Dessia-tech/tutorials/blob/datatools/notebook/datatools.ipynb)"
      ],
      "metadata": {
        "id": "1vm2LF48hmB_"
      }
    },    
    {
      "cell_type": "markdown",
      "source": [
        "# Introduction\n",
        "\n",
        "\n",
        "\n",
        "\n"
      ],
      "metadata": {
        "id": "N8O4MYtnBRFx"
      }
    },
    {
      "cell_type": "markdown",
      "source": [
        "# Installation"
      ],
      "metadata": {
        "id": "A4tmB6BU-mtL"
      }
    },
    {
      "cell_type": "markdown",
      "source": [
        "## Initialization\n"
      ],
      "metadata": {
        "id": "b3dQ7SRx-uYW"
      }
    },
    {
      "cell_type": "code",
      "execution_count": null,
      "metadata": {
        "id": "56TKY66M-lua"
      },
      "outputs": [],
      "source": [
        "!wget -O mini.sh https://repo.anaconda.com/miniconda/Miniconda3-py38_4.8.2-Linux-x86_64.sh\n",
        "!chmod +x mini.sh\n",
        "!bash ./mini.sh -b -f -p /usr/local\n",
        "!conda install -q -y jupyter\n",
        "!conda install -q -y google-colab -c conda-forge\n",
        "!python -m ipykernel install --name \"py38\" --user\n",
        "!conda update conda -y"
      ]
    },
    {
      "cell_type": "code",
      "source": [
        "# Reload the web page (quit) and execute this cell\n",
        "import sys\n",
        "print(\"User Current Version:-\", sys.version)\n",
        "if sys.version[:3] != \"3.8\":\n",
        "  raise SystemError(\"Try to reload the web page (quit)\")"
      ],
      "metadata": {
        "id": "GjE0YTko_vMR"
      },
      "execution_count": null,
      "outputs": []
    },
    {
      "cell_type": "markdown",
      "source": [
        "## Python imports"
      ],
      "metadata": {
        "id": "MbxZvOie-nmb"
      }
    },
    {
      "cell_type": "code",
      "source": [
        "!pip install dessia_common\n",
        "!pip install volmdlr"
      ],
      "metadata": {
        "id": "-_cdJ_cr_zF2"
      },
      "execution_count": null,
      "outputs": []
    }
  ]
}
